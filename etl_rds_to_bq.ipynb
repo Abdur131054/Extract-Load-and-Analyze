{
 "cells": [
  {
   "cell_type": "code",
   "execution_count": null,
   "id": "0114d9fd",
   "metadata": {},
   "outputs": [],
   "source": [
    "#installing psycopg2\n",
    "pip install psycopg2"
   ]
  },
  {
   "cell_type": "code",
   "execution_count": null,
   "id": "68bd00b6",
   "metadata": {},
   "outputs": [],
   "source": [
    "#Installing google-cloud-storage\n",
    "pip install google-cloud-storage"
   ]
  },
  {
   "cell_type": "code",
   "execution_count": null,
   "id": "62762bc5",
   "metadata": {},
   "outputs": [],
   "source": [
    "#Installing BigQuery\n",
    "pip install google-cloud-bigquery"
   ]
  },
  {
   "cell_type": "code",
   "execution_count": 4,
   "id": "0c3928ca",
   "metadata": {},
   "outputs": [
    {
     "name": "stdout",
     "output_type": "stream",
     "text": [
      "Requirement already satisfied: sqlalchemy in c:\\users\\abdur\\anaconda3\\lib\\site-packages (1.4.32)\n",
      "Requirement already satisfied: greenlet!=0.4.17 in c:\\users\\abdur\\anaconda3\\lib\\site-packages (from sqlalchemy) (1.1.1)\n",
      "Note: you may need to restart the kernel to use updated packages.\n"
     ]
    }
   ],
   "source": [
    "#Installing sqlalchemy\n",
    "pip install sqlalchemy"
   ]
  },
  {
   "cell_type": "code",
   "execution_count": 5,
   "id": "6886cb4b",
   "metadata": {},
   "outputs": [],
   "source": [
    "#importing necessary libraries\n",
    "import psycopg2\n",
    "import pandas as pd\n",
    "import os\n",
    "from google.cloud import storage, bigquery\n",
    "from sqlalchemy import create_engine"
   ]
  },
  {
   "cell_type": "code",
   "execution_count": 6,
   "id": "60aeeb48",
   "metadata": {},
   "outputs": [],
   "source": [
    "# setting the environment variable to the path of a JSON file\n",
    "os.environ[\"GOOGLE_APPLICATION_CREDENTIALS\"] = \"E:/DE project/AIQuest/etl-bde3-8127e3bdf05d.json\"\n"
   ]
  },
  {
   "cell_type": "code",
   "execution_count": 7,
   "id": "ff68a553",
   "metadata": {},
   "outputs": [],
   "source": [
    "#creating instance for google cloud storage\n",
    "storage_client = storage.Client()"
   ]
  },
  {
   "cell_type": "code",
   "execution_count": 8,
   "id": "2fcb76ba",
   "metadata": {},
   "outputs": [],
   "source": [
    "#creating instance for bigquery client\n",
    "bigquery_client = bigquery.Client()"
   ]
  },
  {
   "cell_type": "code",
   "execution_count": 9,
   "id": "b2dca434",
   "metadata": {},
   "outputs": [],
   "source": [
    "#establishing connection to postgesql \n",
    "rds_conn = psycopg2.connect(\n",
    "    host=\"bde3-project.cqcqebjkmcrf.us-east-1.rds.amazonaws.com\",\n",
    "    database=\"abdur\",\n",
    "    user=\"abdur\",\n",
    "    password=\"*******\"\n",
    ")"
   ]
  },
  {
   "cell_type": "code",
   "execution_count": 10,
   "id": "11d7ec49",
   "metadata": {},
   "outputs": [
    {
     "name": "stderr",
     "output_type": "stream",
     "text": [
      "C:\\Users\\Abdur\\anaconda3\\lib\\site-packages\\pandas\\io\\sql.py:761: UserWarning: pandas only support SQLAlchemy connectable(engine/connection) ordatabase string URI or sqlite3 DBAPI2 connectionother DBAPI2 objects are not tested, please consider using SQLAlchemy\n",
      "  warnings.warn(\n",
      "C:\\Users\\Abdur\\anaconda3\\lib\\site-packages\\pandas\\io\\sql.py:761: UserWarning: pandas only support SQLAlchemy connectable(engine/connection) ordatabase string URI or sqlite3 DBAPI2 connectionother DBAPI2 objects are not tested, please consider using SQLAlchemy\n",
      "  warnings.warn(\n",
      "C:\\Users\\Abdur\\anaconda3\\lib\\site-packages\\pandas\\io\\sql.py:761: UserWarning: pandas only support SQLAlchemy connectable(engine/connection) ordatabase string URI or sqlite3 DBAPI2 connectionother DBAPI2 objects are not tested, please consider using SQLAlchemy\n",
      "  warnings.warn(\n",
      "C:\\Users\\Abdur\\anaconda3\\lib\\site-packages\\pandas\\io\\sql.py:761: UserWarning: pandas only support SQLAlchemy connectable(engine/connection) ordatabase string URI or sqlite3 DBAPI2 connectionother DBAPI2 objects are not tested, please consider using SQLAlchemy\n",
      "  warnings.warn(\n"
     ]
    }
   ],
   "source": [
    "#define sql queries to select all columns from tables\n",
    "sql_query_Customers = \"SELECT * FROM Customers\"\n",
    "sql_query_Orders = \"SELECT * FROM Orders\"\n",
    "sql_query_OrderDetails = \"SELECT * FROM OrderDetails\"\n",
    "#reading sql queries\n",
    "df_Products = pd.read_sql(sql_query_Products, rds_conn)\n",
    "df_Customers = pd.read_sql(sql_query_Customers, rds_conn)\n",
    "df_Orders = pd.read_sql(sql_query_Orders, rds_conn)\n",
    "df_OrderDetails = pd.read_sql(sql_query_OrderDetails, rds_conn)"
   ]
  },
  {
   "cell_type": "code",
   "execution_count": 11,
   "id": "a9a2c999",
   "metadata": {},
   "outputs": [],
   "source": [
    "#Exporting Dataframe to CSV\n",
    "df_Products.to_csv('Products.csv', index=False)\n",
    "df_Customers.to_csv('Customers.csv', index=False)\n",
    "df_Orders.to_csv('Orders.csv', index=False)\n",
    "df_OrderDetails.to_csv('OrderDetails.csv', index=False)"
   ]
  },
  {
   "cell_type": "code",
   "execution_count": 12,
   "id": "ce520b3a",
   "metadata": {},
   "outputs": [
    {
     "name": "stdout",
     "output_type": "stream",
     "text": [
      "File Products.csv uploaded to GCS bucket bde3-de-project.\n",
      "File Customers.csv uploaded to GCS bucket bde3-de-project.\n",
      "File Orders.csv uploaded to GCS bucket bde3-de-project.\n",
      "File OrderDetails.csv uploaded to GCS bucket bde3-de-project.\n"
     ]
    }
   ],
   "source": [
    "project_id = 'etl-bde3'\n",
    "bucket_name = 'bde3-de-project'\n",
    "files_to_upload = ['Products.csv', 'Customers.csv', 'Orders.csv', 'OrderDetails.csv']\n",
    "storage_client = storage.Client(project=project_id)\n",
    "\n",
    "# Iterate over each file and upload to GCS\n",
    "for file_name in files_to_upload:\n",
    "    blob_name = file_name\n",
    "    \n",
    "    # Create a blob object\n",
    "    blob = storage_client.bucket(bucket_name).blob(blob_name)\n",
    "    \n",
    "    # Upload the file to GCS\n",
    "    blob.upload_from_filename(file_name)\n",
    "\n",
    "    print(f\"File {file_name} uploaded to GCS bucket {bucket_name}.\")\n"
   ]
  },
  {
   "cell_type": "code",
   "execution_count": 18,
   "id": "795d4c11",
   "metadata": {},
   "outputs": [
    {
     "name": "stdout",
     "output_type": "stream",
     "text": [
      "Table 'Customers' not found. Error: 404 GET https://bigquery.googleapis.com/bigquery/v2/projects/etl-bde3/datasets/etl_bde3_data/tables/Customers?prettyPrint=false: Not found: Table etl-bde3:etl_bde3_data.Customers\n",
      "Creating table 'Customers' in dataset 'etl_bde3_data'.\n",
      "Starting job 8ccee351-2afb-4239-bf87-e0cccae3d0d2\n",
      "Job finished. Loaded 20 rows into etl_bde3_data:Customers.\n",
      "Table 'Products' not found. Error: 404 GET https://bigquery.googleapis.com/bigquery/v2/projects/etl-bde3/datasets/etl_bde3_data/tables/Products?prettyPrint=false: Not found: Table etl-bde3:etl_bde3_data.Products\n",
      "Creating table 'Products' in dataset 'etl_bde3_data'.\n",
      "Starting job d49a01c5-e758-4e00-b2a7-f8d2c5e8eb91\n",
      "Job finished. Loaded 18 rows into etl_bde3_data:Products.\n",
      "Table 'Orders' not found. Error: 404 GET https://bigquery.googleapis.com/bigquery/v2/projects/etl-bde3/datasets/etl_bde3_data/tables/Orders?prettyPrint=false: Not found: Table etl-bde3:etl_bde3_data.Orders\n",
      "Creating table 'Orders' in dataset 'etl_bde3_data'.\n",
      "Starting job 778311aa-03b6-416e-9dfc-46bf22924b55\n",
      "Job finished. Loaded 50 rows into etl_bde3_data:Orders.\n",
      "Table 'OrderDetails' not found. Error: 404 GET https://bigquery.googleapis.com/bigquery/v2/projects/etl-bde3/datasets/etl_bde3_data/tables/OrderDetails?prettyPrint=false: Not found: Table etl-bde3:etl_bde3_data.OrderDetails\n",
      "Creating table 'OrderDetails' in dataset 'etl_bde3_data'.\n",
      "Starting job 71a62c8e-ea60-420e-ba63-07a6fd901257\n",
      "Job finished. Loaded 101 rows into etl_bde3_data:OrderDetails.\n",
      "Data loading and table creation completed successfully.\n"
     ]
    }
   ],
   "source": [
    "project_id = 'etl-bde3'\n",
    "dataset_id = 'etl_bde3_data'\n",
    "bucket_name = 'bde3-de-project'\n",
    "files_to_upload = ['Customers.csv', 'Products.csv', 'Orders.csv', 'OrderDetails.csv']\n",
    "\n",
    "# Create a BigQuery client\n",
    "bigquery_client = bigquery.Client(project=project_id)\n",
    "\n",
    "# Check if the dataset exists, create it if not\n",
    "dataset_ref = bigquery_client.dataset(dataset_id)\n",
    "try:\n",
    "    bigquery_client.get_dataset(dataset_ref)\n",
    "except Exception as e:\n",
    "    print(f\"Dataset '{dataset_id}' not found. Error: {e}\")\n",
    "    print(f\"Creating dataset '{dataset_id}'.\")\n",
    "    dataset = bigquery.Dataset(dataset_ref)\n",
    "    bigquery_client.create_dataset(dataset)\n",
    "\n",
    "# Load each CSV file into a table in BigQuery\n",
    "for file_name in files_to_upload:\n",
    "    # Construct table_id from file_name (remove extension and replace non-alphanumeric characters)\n",
    "    table_id = f'{file_name.split(\".\")[0]}'\n",
    "\n",
    "    table_ref = dataset_ref.table(table_id)\n",
    "\n",
    "    # Check if the table exists, create it if not\n",
    "    try:\n",
    "        bigquery_client.get_table(table_ref)\n",
    "    except Exception as e:\n",
    "        print(f\"Table '{table_id}' not found. Error: {e}\")\n",
    "        print(f\"Creating table '{table_id}' in dataset '{dataset_id}'.\")\n",
    "        \n",
    "        # Define table schema based on the structure of CSV files\n",
    "        \n",
    "        job_config = bigquery.LoadJobConfig()\n",
    "        job_config.source_format = bigquery.SourceFormat.CSV\n",
    "        job_config.skip_leading_rows = 1\n",
    "        job_config.autodetect = True\n",
    "\n",
    "        # Create an empty table with the specified schema\n",
    "        table = bigquery.Table(table_ref)\n",
    "        bigquery_client.create_table(table)\n",
    "\n",
    "    uri = f\"gs://{bucket_name}/{file_name}\"\n",
    "    load_job = bigquery_client.load_table_from_uri(uri, table_ref, job_config=job_config)\n",
    "\n",
    "    print(f\"Starting job {load_job.job_id}\")\n",
    "    load_job.result()  # Wait for table load to complete\n",
    "    print(f\"Job finished. Loaded {load_job.output_rows} rows into {dataset_id}:{table_id}.\")\n",
    "\n",
    "\n",
    "print(\"Data loading and table creation completed successfully.\")"
   ]
  },
  {
   "cell_type": "code",
   "execution_count": null,
   "id": "e362b728",
   "metadata": {},
   "outputs": [],
   "source": []
  }
 ],
 "metadata": {
  "kernelspec": {
   "display_name": "Python 3 (ipykernel)",
   "language": "python",
   "name": "python3"
  },
  "language_info": {
   "codemirror_mode": {
    "name": "ipython",
    "version": 3
   },
   "file_extension": ".py",
   "mimetype": "text/x-python",
   "name": "python",
   "nbconvert_exporter": "python",
   "pygments_lexer": "ipython3",
   "version": "3.9.12"
  }
 },
 "nbformat": 4,
 "nbformat_minor": 5
}
